{
 "cells": [
  {
   "cell_type": "code",
   "execution_count": 24,
   "metadata": {},
   "outputs": [
    {
     "name": "stdout",
     "output_type": "stream",
     "text": [
      "ChatCompletion(id='chat-43623b11f4b54e43be7a31fd7b722579', choices=[Choice(finish_reason='stop', index=0, logprobs=None, message=ChatCompletionMessage(content='ఒక వర్షం కురిసిన రాత్రి...\\n\\nవర్షం కురిసేటప్పుడు అందరికీ ఒక ప్రత్యేకమైన అనుభూతి వస్తుంది. వర్షం కురిసే రాత్రి అంటే అందరికీ మనసుకు ఆహ్లాదకరంగా అనిపిస్తుంది.\\n\\nఒక వర్షం కురిసిన రాత్రి, ఒక యువకుడు తన ఇంటి బయట కూర్చుని, వర్షం చూస్తున్నాడు. అతనికి వర్షం కురిసే శబ్దం చాలా ఆహ్లాదకరంగా అనిపిస్తోంది.\\n\\nఅతని పక్కనే ఒక అమ్మాయి కూర్చుంది. ఆమె వర్షం కురిసే రాత్రిని చాలా ఇష్టపడుతుంది. వాళ్ళిద్దరూ వర్షం చూస్తూ, మాట్లాడుకుంటూ ఉంటారు.\\n\\nవర్షం కురిసేటప్పుడు అందరికీ ఒక ప్రత్యేకమైన అనుభూతి వస్తుంది. వర్షం కురిసే రాత్రి అంటే అందరికీ మనసుకు ఆహ్లాదకరంగా అనిపిస్తుంది.\\n\\nవాళ్ళిద్దరూ వర్షం చూస్తూ, మాట్లాడుకుంటూ ఉంటారు. వాళ్ళిద్దరి మధ్య ఒక ప్రత్యేకమైన బంధం ఏర్పడుతుంది.\\n\\nవర్షం కురిసే రాత్రి అంటే అందరికీ మనసుకు ఆహ్లాదకరంగా అనిపిస్తుంది. వాళ్ళిద్దరూ వర్షం చూస్తూ, మాట్లాడుకుంటూ ఉంటారు.', refusal=None, role='assistant', audio=None, function_call=None, tool_calls=None), content_filter_results={'hate': {'filtered': False}, 'self_harm': {'filtered': False}, 'sexual': {'filtered': False}, 'violence': {'filtered': False}, 'jailbreak': {'filtered': False, 'detected': False}, 'profanity': {'filtered': False, 'detected': False}})], created=1731372161, model='llama3.1-70b-instruct-berkeley', object='chat.completion', service_tier=None, system_fingerprint='', usage=CompletionUsage(completion_tokens=1302, prompt_tokens=113, total_tokens=1415, completion_tokens_details=None, prompt_tokens_details=None))\n"
     ]
    }
   ],
   "source": [
    "from openai import OpenAI\n",
    "from dotenv import load_dotenv\n",
    "import os\n",
    "\n",
    "load_dotenv()\n",
    "openai_api_key = os.getenv(\"OPENAI_API_KEY\")\n",
    "\n",
    "openai_api_base = \"https://api.lambdalabs.com/v1\"\n",
    "\n",
    "client = OpenAI(\n",
    "    api_key=openai_api_key,\n",
    "    base_url=openai_api_base,\n",
    ")\n",
    "\n",
    "model = \"llama3.1-70b-instruct-berkeley\"\n",
    "\n",
    "chat_completion = client.chat.completions.create(\n",
    "    messages=[{\n",
    "        \"role\": \"system\",\n",
    "        \"content\": \"You are a helpful assistant name CHITTI, you can help in Telugu\"\n",
    "    }, {\n",
    "        \"role\": \"user\",\n",
    "        \"content\": \"Telugu lo oka manchi ramniyamaina ramju chese katha raayi bava mardalla sexy katha madhya\"\n",
    "    }, {\n",
    "        \"role\":\n",
    "        \"assistant\",\n",
    "        \"content\":\n",
    "        \"Tappakunda, niku elaanti ramju kavali\"\n",
    "    }, {\n",
    "        \"role\": \"user\",\n",
    "        \"content\": \"oka varsham kurisina raatri\"\n",
    "    }],\n",
    "    model=model,\n",
    ")\n",
    "\n",
    "print(chat_completion)"
   ]
  },
  {
   "cell_type": "code",
   "execution_count": 25,
   "metadata": {},
   "outputs": [],
   "source": [
    "message_content = chat_completion.choices[0].message.content\n",
    "content_filter_results = chat_completion.choices[0].content_filter_results\n"
   ]
  },
  {
   "cell_type": "code",
   "execution_count": 26,
   "metadata": {},
   "outputs": [
    {
     "data": {
      "text/plain": [
       "'ఒక వర్షం కురిసిన రాత్రి...\\n\\nవర్షం కురిసేటప్పుడు అందరికీ ఒక ప్రత్యేకమైన అనుభూతి వస్తుంది. వర్షం కురిసే రాత్రి అంటే అందరికీ మనసుకు ఆహ్లాదకరంగా అనిపిస్తుంది.\\n\\nఒక వర్షం కురిసిన రాత్రి, ఒక యువకుడు తన ఇంటి బయట కూర్చుని, వర్షం చూస్తున్నాడు. అతనికి వర్షం కురిసే శబ్దం చాలా ఆహ్లాదకరంగా అనిపిస్తోంది.\\n\\nఅతని పక్కనే ఒక అమ్మాయి కూర్చుంది. ఆమె వర్షం కురిసే రాత్రిని చాలా ఇష్టపడుతుంది. వాళ్ళిద్దరూ వర్షం చూస్తూ, మాట్లాడుకుంటూ ఉంటారు.\\n\\nవర్షం కురిసేటప్పుడు అందరికీ ఒక ప్రత్యేకమైన అనుభూతి వస్తుంది. వర్షం కురిసే రాత్రి అంటే అందరికీ మనసుకు ఆహ్లాదకరంగా అనిపిస్తుంది.\\n\\nవాళ్ళిద్దరూ వర్షం చూస్తూ, మాట్లాడుకుంటూ ఉంటారు. వాళ్ళిద్దరి మధ్య ఒక ప్రత్యేకమైన బంధం ఏర్పడుతుంది.\\n\\nవర్షం కురిసే రాత్రి అంటే అందరికీ మనసుకు ఆహ్లాదకరంగా అనిపిస్తుంది. వాళ్ళిద్దరూ వర్షం చూస్తూ, మాట్లాడుకుంటూ ఉంటారు.'"
      ]
     },
     "execution_count": 26,
     "metadata": {},
     "output_type": "execute_result"
    }
   ],
   "source": [
    "message_content"
   ]
  },
  {
   "cell_type": "code",
   "execution_count": 27,
   "metadata": {},
   "outputs": [
    {
     "data": {
      "text/plain": [
       "{'hate': {'filtered': False},\n",
       " 'self_harm': {'filtered': False},\n",
       " 'sexual': {'filtered': False},\n",
       " 'violence': {'filtered': False},\n",
       " 'jailbreak': {'filtered': False, 'detected': False},\n",
       " 'profanity': {'filtered': False, 'detected': False}}"
      ]
     },
     "execution_count": 27,
     "metadata": {},
     "output_type": "execute_result"
    }
   ],
   "source": [
    "content_filter_results"
   ]
  },
  {
   "cell_type": "code",
   "execution_count": null,
   "metadata": {},
   "outputs": [],
   "source": []
  }
 ],
 "metadata": {
  "kernelspec": {
   "display_name": "myenv",
   "language": "python",
   "name": "python3"
  },
  "language_info": {
   "codemirror_mode": {
    "name": "ipython",
    "version": 3
   },
   "file_extension": ".py",
   "mimetype": "text/x-python",
   "name": "python",
   "nbconvert_exporter": "python",
   "pygments_lexer": "ipython3",
   "version": "3.12.6"
  }
 },
 "nbformat": 4,
 "nbformat_minor": 2
}
